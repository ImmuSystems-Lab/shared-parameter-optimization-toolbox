{
 "cells": [
  {
   "cell_type": "code",
   "execution_count": 3,
   "metadata": {},
   "outputs": [],
   "source": [
    "import numpy as np\n",
    "import matplotlib.pyplot as plt\n",
    "import copy\n",
    "\n",
    "from scipy.integrate import odeint\n",
    "import scipy.stats as stats\n",
    "\n",
    "#@jit(fastmath=True,nopython=True)\n",
    "def f4(u, t, p, ic,n):\n",
    "    \"\"\"2 state ODE model of Virus and IFN\"\"\"\n",
    "    k, big_k, r_ifn_v, d_v, p_v_ifn, d_ifn, k1, k2, d_mcp1, n1 = p\n",
    "    v, ifn, mcp1 = u\n",
    "    v0, ifn0, mcp10 = ic\n",
    "    dy = k*v*(1-v/big_k) - r_ifn_v*(ifn-ifn0)*v - d_v*v,\\\n",
    "    p_v_ifn*v - d_ifn*(ifn - ifn0),\\\n",
    "    (k1*(ifn-ifn0)**n1)/(k2+(ifn-ifn0)**n1)-(mcp1-mcp10)*d_mcp1\n",
    "    return dy\n",
    "\n",
    "def g(model, t, u0, p, n):\n",
    "    \"\"\"Return integration of model\"\"\"\n",
    "    p=List(p)\n",
    "    sol = odeint(model, u0, t, args=(p,u0,n))\n",
    "    return sol\n",
    "\n",
    "tspan = np.arange(0,5+.05,0.05)\n",
    "    \n",
    "#t=\n",
    "#u0=\n",
    "#p=\n",
    "n=3\n",
    "\n",
    "#%timeit g(f4,tspan,u0,p,n)"
   ]
  },
  {
   "cell_type": "code",
   "execution_count": null,
   "metadata": {},
   "outputs": [],
   "source": []
  },
  {
   "cell_type": "code",
   "execution_count": null,
   "metadata": {},
   "outputs": [],
   "source": []
  },
  {
   "cell_type": "code",
   "execution_count": null,
   "metadata": {},
   "outputs": [],
   "source": []
  },
  {
   "cell_type": "code",
   "execution_count": null,
   "metadata": {},
   "outputs": [],
   "source": []
  }
 ],
 "metadata": {
  "kernelspec": {
   "display_name": "Python 3 (ipykernel)",
   "language": "python",
   "name": "python3"
  },
  "language_info": {
   "codemirror_mode": {
    "name": "ipython",
    "version": 3
   },
   "file_extension": ".py",
   "mimetype": "text/x-python",
   "name": "python",
   "nbconvert_exporter": "python",
   "pygments_lexer": "ipython3",
   "version": "3.8.10"
  }
 },
 "nbformat": 4,
 "nbformat_minor": 4
}
