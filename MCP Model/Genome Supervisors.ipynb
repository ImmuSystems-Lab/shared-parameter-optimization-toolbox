{
 "cells": [
  {
   "cell_type": "code",
   "execution_count": 27,
   "id": "1bf4c725",
   "metadata": {},
   "outputs": [
    {
     "name": "stdout",
     "output_type": "stream",
     "text": [
      "4096\n"
     ]
    }
   ],
   "source": [
    "###Brute Force###\n",
    "#Create a list of all possible genomes\n",
    "def enum(genomeLength):\n",
    "    import itertools\n",
    "\n",
    "    #Possible states for each bit in the genome: boolean, 1/0\n",
    "    l = [0,1] \n",
    "\n",
    "    #Enumerate and return the genomes\n",
    "    return list(itertools.product(l, repeat=genomeLength))\n",
    "\n",
    "allOrganisms = enum(12)\n",
    "print(str(len(allOrganisms)))"
   ]
  },
  {
   "cell_type": "code",
   "execution_count": 28,
   "id": "64fbe07e",
   "metadata": {},
   "outputs": [
    {
     "name": "stdout",
     "output_type": "stream",
     "text": [
      "409\n"
     ]
    }
   ],
   "source": [
    "###Downsampling###\n",
    "def downsample(allOrganisms, orgSampleFraction):\n",
    "\n",
    "    #Downsample from all possible genomes\n",
    "    return rand.sample(allOrganisms,int(orgSampleFraction*len(allOrganisms)))\n",
    "\n",
    "parameters = 12\n",
    "sampleFraction = 0.1\n",
    "allOrganisms = enum(parameters) #Enumerate all organisms, with brute force\n",
    "sampledOrganisms = downsample(allOrganisms, sampleFraction) #call downsample \n",
    "\n",
    "print(str(len(sampledOrganisms)))"
   ]
  },
  {
   "cell_type": "code",
   "execution_count": 29,
   "id": "39086a7f",
   "metadata": {},
   "outputs": [
    {
     "data": {
      "text/plain": [
       "[[0, 0, 0, 0, 0, 0, 0, 0, 0, 0, 0, 0],\n",
       " [0, 0, 0, 0, 0, 0, 1, 0, 0, 0, 0, 0],\n",
       " [0, 0, 0, 0, 0, 1, 0, 0, 0, 0, 0, 0],\n",
       " [0, 0, 0, 0, 0, 1, 1, 0, 0, 0, 0, 0],\n",
       " [0, 0, 0, 0, 1, 0, 0, 0, 0, 0, 0, 0],\n",
       " [0, 0, 0, 0, 1, 0, 1, 0, 0, 0, 0, 0],\n",
       " [0, 0, 0, 0, 1, 1, 0, 0, 0, 0, 0, 0],\n",
       " [0, 0, 0, 0, 1, 1, 1, 0, 0, 0, 0, 0],\n",
       " [0, 0, 0, 1, 0, 0, 0, 0, 0, 0, 0, 0],\n",
       " [0, 0, 0, 1, 0, 0, 1, 0, 0, 0, 0, 0],\n",
       " [0, 0, 0, 1, 0, 1, 0, 0, 0, 0, 0, 0],\n",
       " [0, 0, 0, 1, 0, 1, 1, 0, 0, 0, 0, 0],\n",
       " [0, 0, 0, 1, 1, 0, 0, 0, 0, 0, 0, 0],\n",
       " [0, 0, 0, 1, 1, 0, 1, 0, 0, 0, 0, 0],\n",
       " [0, 0, 0, 1, 1, 1, 0, 0, 0, 0, 0, 0],\n",
       " [0, 0, 0, 1, 1, 1, 1, 0, 0, 0, 0, 0]]"
      ]
     },
     "execution_count": 29,
     "metadata": {},
     "output_type": "execute_result"
    }
   ],
   "source": [
    "###Pandas###\n",
    "\n",
    "#Filter only to parameters-of-interest (POI) varying genomes\n",
    "def inversefilter(df, POI):\n",
    "    import pandas as pd\n",
    "    \n",
    "    df = pd.DataFrame(df)\n",
    "\n",
    "    #Determine the parameter count and column labels\n",
    "    colList = np.array((range(0,df.shape[1])))\n",
    "    \n",
    "    #Get the parameters which are not \"of interest\"\n",
    "    nPOI = np.delete(colList, POI)\n",
    "    \n",
    "    for i in nPOI:\n",
    "        df = df.loc[df[i] != 1]    \n",
    "    \n",
    "    return df.values.tolist()\n",
    "\n",
    "allOrganisms = enum(12) #12 parameters\n",
    "POI = [3, 4, 5, 6] #Which parameter(s) to try unsharing\n",
    "\n",
    "sampledOrganisms = inversefilter(allOrganisms, POI)\n",
    "\n",
    "sampledOrganisms"
   ]
  },
  {
   "cell_type": "code",
   "execution_count": 19,
   "id": "a35757b1",
   "metadata": {},
   "outputs": [],
   "source": []
  },
  {
   "cell_type": "code",
   "execution_count": null,
   "id": "50dc2f7c",
   "metadata": {},
   "outputs": [],
   "source": []
  },
  {
   "cell_type": "code",
   "execution_count": null,
   "id": "ba81ff35",
   "metadata": {},
   "outputs": [],
   "source": []
  }
 ],
 "metadata": {
  "kernelspec": {
   "display_name": "Python 3 (ipykernel)",
   "language": "python",
   "name": "python3"
  },
  "language_info": {
   "codemirror_mode": {
    "name": "ipython",
    "version": 3
   },
   "file_extension": ".py",
   "mimetype": "text/x-python",
   "name": "python",
   "nbconvert_exporter": "python",
   "pygments_lexer": "ipython3",
   "version": "3.8.10"
  }
 },
 "nbformat": 4,
 "nbformat_minor": 5
}
