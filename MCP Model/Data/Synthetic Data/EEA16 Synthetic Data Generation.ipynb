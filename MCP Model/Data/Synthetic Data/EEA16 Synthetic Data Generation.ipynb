{
 "cells": [
  {
   "cell_type": "code",
   "execution_count": 17,
   "metadata": {},
   "outputs": [],
   "source": [
    "import scipy\n",
    "import numpy as np\n",
    "import matplotlib.pyplot as plt\n",
    "import pandas\n",
    "from numba import jit\n",
    "from scipy.integrate import odeint"
   ]
  },
  {
   "cell_type": "code",
   "execution_count": 18,
   "metadata": {},
   "outputs": [],
   "source": [
    "#Construct a model\n",
    "@jit(nopython=True)\n",
    "def model(u, t, p):\n",
    "    k, big_k, r_ifn_v, d_v, p_v_ifn, d_ifn, k1, k2, d_mcp1, n1, mcp10 = p\n",
    "    v, ifn, mcp1 = u\n",
    "    dy = (k*v*(1-v/big_k) - r_ifn_v*(ifn)*v - d_v*v,\n",
    "    p_v_ifn*v - d_ifn*(ifn),\n",
    "    (k1*(ifn)**n1)/(k2+(ifn)**n1)-(mcp1-mcp10)*d_mcp1)\n",
    "    return dy"
   ]
  },
  {
   "cell_type": "code",
   "execution_count": 91,
   "metadata": {},
   "outputs": [],
   "source": [
    "def traj(noise):\n",
    "    #timepoints for solver\n",
    "    tSol = (0, 0.125, 0.25, 0.375, 0.5, 0.75, 1, 1.25, 1.5, 2, 2.5, 3, 5)\n",
    "\n",
    "    #Initial conditions\n",
    "    u01 = [6.819798, 0, 121.7883333] #h1n1\n",
    "    u05 = [7.10321, 0, 121.525] #h5n1\n",
    "\n",
    "    #Parameter values\n",
    "    #h1n1\n",
    "    par1 = np.array((3.27, 10.9, 0.00016, 0.000201, 0.1, 1.08, 14700, 18500, 1.04, 5.45))\n",
    "    mcp101 = 121.7883333\n",
    "\n",
    "    #h5n1\n",
    "    par5 = np.array((3.27, 10.9, 0.00016, 0.000201, 0.4, 1.08, 14700, 18500, 1.04, 5.45))\n",
    "    mcp105 = 121.525\n",
    "\n",
    "    #Add noise to the parameters, then remove zeros\n",
    "    parN1 = np.random.normal(par1,i*par1)\n",
    "    parN1[parN1<0] = 1e-4\n",
    "\n",
    "    parN5 = np.random.normal(par5,i*par5)\n",
    "    parN5[parN5<0] = 1e-4\n",
    "\n",
    "    #Prepare arguments for solver\n",
    "    argTup1 = np.append(parN1,mcp101)\n",
    "    argTup5 = np.append(parN5,mcp105)\n",
    "\n",
    "    #Solve the model\n",
    "    sol1 = odeint(model,u01,tSol,args=(argTup1,),mxstep=5000)\n",
    "    sol5 = odeint(model,u05,tSol,args=(argTup5,),mxstep=5000)\n",
    "\n",
    "    #Put MCP1 in log2 space\n",
    "    sol1[:,2] = np.log2(sol1[:,2])\n",
    "    sol5[:,2] = np.log2(sol5[:,2])\n",
    "    \n",
    "    out1 = np.expand_dims(sol1,axis=-1)\n",
    "    out5 = np.expand_dims(sol5,axis=-1)\n",
    "    \n",
    "    out = np.concatenate((out1,out5),-1)\n",
    "    \n",
    "    return out"
   ]
  },
  {
   "cell_type": "code",
   "execution_count": 59,
   "metadata": {},
   "outputs": [],
   "source": []
  },
  {
   "cell_type": "code",
   "execution_count": null,
   "metadata": {
    "scrolled": true
   },
   "outputs": [],
   "source": []
  },
  {
   "cell_type": "code",
   "execution_count": null,
   "metadata": {},
   "outputs": [],
   "source": []
  },
  {
   "cell_type": "code",
   "execution_count": null,
   "metadata": {},
   "outputs": [],
   "source": []
  },
  {
   "cell_type": "code",
   "execution_count": null,
   "metadata": {},
   "outputs": [],
   "source": []
  },
  {
   "cell_type": "code",
   "execution_count": null,
   "metadata": {},
   "outputs": [],
   "source": []
  }
 ],
 "metadata": {
  "kernelspec": {
   "display_name": "Python 3 (ipykernel)",
   "language": "python",
   "name": "python3"
  },
  "language_info": {
   "codemirror_mode": {
    "name": "ipython",
    "version": 3
   },
   "file_extension": ".py",
   "mimetype": "text/x-python",
   "name": "python",
   "nbconvert_exporter": "python",
   "pygments_lexer": "ipython3",
   "version": "3.8.10"
  }
 },
 "nbformat": 4,
 "nbformat_minor": 4
}
